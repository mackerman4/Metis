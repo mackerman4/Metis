{
 "cells": [
  {
   "cell_type": "markdown",
   "id": "06774b23",
   "metadata": {},
   "source": [
    "# Reader Preferences and Book Recommendations\n",
    "By Melanie Ackerman"
   ]
  },
  {
   "cell_type": "markdown",
   "id": "ee331407",
   "metadata": {},
   "source": [
    "### Opportunity\n",
    "I am a data scientist at Penguin Random House (PRH), where decision-makers across the publishing business greatly benefit from our data-driven insights. As a “Big Five” publishing company, PRH has a massive catalog spanning many genres and beloved authors. As such, their books appeal to many groups of readers, many of which likely overlap with each other in certain genres and sub-genres. One area in which a deeper understanding of these preferences could aid publishers in decision-making is regarding book content. When making editing and publishing decisions, book publishers must balance the need to appeal to a wide audience and maximize profits with staying true to an author’s vision and the given genre. For instance, could a psychological thriller benefit from incorporating elements of science fiction? Would readers of literary fiction be more interested in fantasy if the plot was more character-driven? Using data science can help publishers strike that balance by deepening their understanding of their readers’ preferences. \n",
    "\n",
    "Using these insights could also allow PRH to further capitalize on their catalog by offering a personalized recommendation system to its readers. Not only would this help readers keep momentum once they’ve finished a book and are looking for their next read, but such a system would help keep readers in the PRH universe."
   ]
  },
  {
   "cell_type": "markdown",
   "id": "063c7c3e",
   "metadata": {},
   "source": [
    "### Impact Hypothesis and Solution Path\n",
    "For this project I will use clustering algorithms to segment reader audiences. By defining groups of readers, this will aid decision-makers at PRH in content and marketing choices to appeal to as a wide an audience as possible while maintaining integrity to the author and genre. This data will also inform a personalized recommendation system that readers can use to find their next read within PRH’s book catalog.  "
   ]
  },
  {
   "cell_type": "markdown",
   "id": "d06d3fd9",
   "metadata": {},
   "source": [
    "### Data\n",
    "I will use a dataset with information from goodreads.com that contains ratings for 10,000 popular books, books marked “to read” by users, book metadata (e.g. author, year, etc.), and Goodreads tags/shelves/genres. The data is publicly available at this link: https://github.com/zygmuntz/goodbooks-10k "
   ]
  },
  {
   "cell_type": "markdown",
   "id": "1be7ae7f",
   "metadata": {},
   "source": [
    "### Tools\n",
    "I will use Python to gather and clean the data and Google Sheets and Tableau for data visualizations."
   ]
  },
  {
   "cell_type": "markdown",
   "id": "96bc5b0b",
   "metadata": {},
   "source": [
    "### Criteria for Success\n",
    "For the book recommendation system, a potential measure of success could be based on survey data asking users if they found the book recommendations useful, if they added a book to their list, and if they enjoyed a recommended book. Measuring success based on how publishers use the information on reader preferences is more complex. One way would be to ask authors and publishers if they found the information useful in making content decisions. Another would be to examine readership of a given book and compare that to readership of past books by the same author or to that of similar books. If the readership expanded for a book that took into account reader preferences from different genres, then it could suggest that using reader preference information from this project raised book sales."
   ]
  },
  {
   "cell_type": "markdown",
   "id": "b62bdb1f",
   "metadata": {},
   "source": [
    "### Assumptions and Risks\n",
    "Using information regarding overlapping preferences, I am assuming that readers would want to see a crossover of elements from different genres. It is possible that though readers enjoy different genres, they want them to remain in their respective spheres and not overlap in content. I am also assuming that authors would want this kind of information. They may not appreciate content guidance based on this information and would prefer to flex their creative muscles as they choose. This data is also based on Goodreads users who have self-selected into an online community of readers. They are not necessarily representative of the general reader audience."
   ]
  },
  {
   "cell_type": "markdown",
   "id": "dc4bb104",
   "metadata": {},
   "source": [
    "### MVP\n",
    "I will produce visualizations related to popular books, genres, and authors. "
   ]
  },
  {
   "cell_type": "code",
   "execution_count": null,
   "id": "16eecb69",
   "metadata": {},
   "outputs": [],
   "source": []
  }
 ],
 "metadata": {
  "kernelspec": {
   "display_name": "Python [conda env:metis] *",
   "language": "python",
   "name": "conda-env-metis-py"
  },
  "language_info": {
   "codemirror_mode": {
    "name": "ipython",
    "version": 3
   },
   "file_extension": ".py",
   "mimetype": "text/x-python",
   "name": "python",
   "nbconvert_exporter": "python",
   "pygments_lexer": "ipython3",
   "version": "3.9.7"
  }
 },
 "nbformat": 4,
 "nbformat_minor": 5
}

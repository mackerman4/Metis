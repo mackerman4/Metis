{
 "cells": [
  {
   "cell_type": "markdown",
   "id": "454a8a25",
   "metadata": {},
   "source": [
    "# Linear Regression Project Write-Up\n",
    "## Diana Taurasi's Career Shooting\n",
    "### By Melanie Ackerman"
   ]
  },
  {
   "cell_type": "markdown",
   "id": "03081cde",
   "metadata": {},
   "source": [
    "### Abstract"
   ]
  },
  {
   "cell_type": "markdown",
   "id": "0fd49390",
   "metadata": {},
   "source": [
    "Diana Taurasi is the best player in the WNBA. She's buried in accolades and broken records and was just named the WNBA GOAT (greatest of all time). The Phoenix Mercury coaching staff is looking to capitalize on her scoring abilities (more than they already do). They want to know if her scoring productivity is related to where on the court she shoots from in a given game. The coaches will use this information to inform new plays intended to set DT up to score. \n"
   ]
  },
  {
   "cell_type": "markdown",
   "id": "937bf31e",
   "metadata": {},
   "source": [
    "### Design"
   ]
  },
  {
   "cell_type": "markdown",
   "id": "a4b61d68",
   "metadata": {},
   "source": [
    "This project answers hypothetical client Phoenix Mercury's question of what shooting factors are related DT's scoring. \n",
    "The shot-by-shot data were scraped from www.stats/wnba.com and opposing team statistics were scraped from www.basketball-reference.com. I aggregated the shot tracking data to calculate the proportions of total field goals attempted (FGA) from each zone on the court per game as well as the ratio of outside to inside shots attempted, after which I linked the opponent's winning percentage from the previous season.  \n",
    "\n",
    "Polynomial transformations of the feature variables are added to the model\n"
   ]
  },
  {
   "cell_type": "markdown",
   "id": "3f26c9f7",
   "metadata": {},
   "source": [
    "### Data"
   ]
  },
  {
   "cell_type": "markdown",
   "id": "a7689041",
   "metadata": {},
   "source": [
    "The WNBA shot data used for this analysis began as nearly 9,000 rows of data, where each observation is a single shot attempted by DT in a given game during her 17-season career. Variables detailing field goal attempts as well as the opposing team were of most interest for calculating the feature variables used in the regression."
   ]
  },
  {
   "cell_type": "markdown",
   "id": "b7aaa672",
   "metadata": {},
   "source": [
    "### Algorithms"
   ]
  },
  {
   "cell_type": "markdown",
   "id": "47912cb5",
   "metadata": {},
   "source": [
    "In the baseline linear regression the target is the number of points scored by DT in a game, while the features are the percentage of FGA from the top of the key (3pt), the left and right corners (3pt), and the paint, the ratio of outside to inside shots attempted, the opponent's win percentage from the previous year, and season dummies for 4 notable seasons for DT or the Phoenix Mercury (i.e. MVP season and playoff champion seasons).\n",
    "\n",
    "Feature Engineering:\n",
    "- Target becomes log of points scored\n",
    "- Polynomial transformations of feature variables are added\n",
    "\n",
    "Regularization:\n",
    "- Used Ridge Regression"
   ]
  },
  {
   "cell_type": "markdown",
   "id": "104712eb",
   "metadata": {},
   "source": [
    "### Tools"
   ]
  },
  {
   "cell_type": "markdown",
   "id": "22d13240",
   "metadata": {},
   "source": [
    "- Requests and JSON for web-scraping\n",
    "- NumPy and Pandas for data manipulation\n",
    "- Matplotlib and Seaborn for visualization"
   ]
  },
  {
   "cell_type": "markdown",
   "id": "15869e6d",
   "metadata": {},
   "source": [
    "### Communication"
   ]
  },
  {
   "cell_type": "markdown",
   "id": "a15ca35a",
   "metadata": {},
   "source": [
    "My presentation slides include pairplots, a visualization of the ridge regression, and a residual plot."
   ]
  },
  {
   "cell_type": "code",
   "execution_count": null,
   "id": "3c20113b",
   "metadata": {},
   "outputs": [],
   "source": []
  }
 ],
 "metadata": {
  "kernelspec": {
   "display_name": "Python 3 (ipykernel)",
   "language": "python",
   "name": "python3"
  },
  "language_info": {
   "codemirror_mode": {
    "name": "ipython",
    "version": 3
   },
   "file_extension": ".py",
   "mimetype": "text/x-python",
   "name": "python",
   "nbconvert_exporter": "python",
   "pygments_lexer": "ipython3",
   "version": "3.9.7"
  }
 },
 "nbformat": 4,
 "nbformat_minor": 5
}
